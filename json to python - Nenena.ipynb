{
 "cells": [
  {
   "attachments": {},
   "cell_type": "markdown",
   "id": "8986b0db",
   "metadata": {},
   "source": [
    "Nenena Ice Melt competition: \n",
    "\n",
    "This project aims to predict what day Ice will melt on the Nenena river based on ice thickness readings. "
   ]
  },
  {
   "cell_type": "code",
   "execution_count": 56,
   "id": "ca31e597",
   "metadata": {},
   "outputs": [],
   "source": [
    "import requests\n",
    "import json\n",
    "import pandas as pd\n",
    "\n",
    "#url = \"https://www.weather.gov/source/aprfc/it_2022.json\"\n",
    "\n",
    "# this is the variable that I will store station id, station name, measurement date, and ice thickness\n",
    "# will use this variable to create my data table\n",
    "rows=[]\n",
    "\n",
    "\n",
    "# The ice thickness data is stored in a public JSON format provided by weather.gov\n",
    "\n",
    "#This outer loop cycles through pervious years in a range determined by user\n",
    "for year in range(1995, 2024):\n",
    "    \n",
    "    # URL is the JSON file. All the years are formatted identically the variable years allows the loop to be dynamic\n",
    "    url = f'https://www.weather.gov/source/aprfc/it_{year}.json'\n",
    "\n",
    "    response = requests.get(url)\n",
    "    data = json.loads(response.text)\n",
    "    \n",
    "    #the JSON is formatted in a way that requires digging through some layers in order to access the required data\n",
    "    for items in data:\n",
    "        #print(items)\n",
    "        for layer1 in data[items]:\n",
    "            #print(\"###################\")\n",
    "            #print(\"  \",layer1)\n",
    "            \n",
    "        # for layer2 in data[items][layer1]:\n",
    "        #    print(\"--------------------------------\")\n",
    "        #     print(\"  \",layer2)\n",
    "                \n",
    "            #The data is in the third level down, iterating through the second layer was not needed as it duplicated this data\n",
    "            for layer3 in data[items][layer1][\"features\"]:\n",
    "\n",
    "                #determine how many measurements were taken at each location\n",
    "                numOfMeasurements = len(layer3['properties']['data'])\n",
    "\n",
    "\n",
    "                date_and_measure_list = (layer3['properties']['data'])\n",
    "                lid = layer3['properties']['lid']\n",
    "                st_name = layer3['properties']['name']\n",
    "\n",
    "                \"\"\"print(lid)\n",
    "                print(st_name)\n",
    "                print(layer3['properties']['data'])\n",
    "                print(numOfMeasurements)\n",
    "                print(date_and_measure_list)\n",
    "\n",
    "                print(\"XXXXXXXXXXXXXXXXXXXXXXXXXXXXXXXXXXXXXXXXXXXXXXXXX\")\n",
    "                print(\"     \") \"\"\"\n",
    "\n",
    "\n",
    "                # this loop is used to add an additional row to the data if there were multiple measurements\n",
    "                # at the same location. The way the data is formatted in the JSON there is only 1 entry for\n",
    "                # locaiton details but multiple dates and measurements. Using this loop formats it in a way\n",
    "                # that duplicates the location informaiton but adds new information in the date and measurement\n",
    "                \n",
    "                n = (numOfMeasurements)\n",
    "                i=0\n",
    "                while i < n:\n",
    "                    rows.append([lid,st_name,date_and_measure_list[i][0],date_and_measure_list[i][1]])\n",
    "                    i+=1\n",
    "                    \n",
    "#print(rows)                   \n",
    "               \n"
   ]
  },
  {
   "cell_type": "code",
   "execution_count": 57,
   "id": "17f542ba",
   "metadata": {},
   "outputs": [
    {
     "name": "stdout",
     "output_type": "stream",
     "text": [
      "        Lid                             Name                 Date Measurement\n",
      "0     ALSA2               Port Alsworth RAWS  1995-01-02 00:00:00          18\n",
      "1     BTTA2         Koyukuk River nr Bettles  1994-12-31 00:00:00          24\n",
      "2     RSHA2   Yukon River at Russian Mission  1994-12-31 00:00:00          17\n",
      "3     SMLA2                   Smith Lake Ice  1994-12-24 00:00:00          16\n",
      "4     SSLA2  Snowshoe Lake Ice near Nelchina  1995-01-02 00:00:00          36\n",
      "...     ...                              ...                  ...         ...\n",
      "4745  MXYA2    Kennicott River near McCarthy  2023-04-20 14:00:00          24\n",
      "4746  MXYA2    Kennicott River near McCarthy  2023-04-21 14:00:00          24\n",
      "4747  MXYA2    Kennicott River near McCarthy  2023-04-22 14:00:00          23\n",
      "4748  MXYA2    Kennicott River near McCarthy  2023-04-23 14:00:00          22\n",
      "4749  MXYA2    Kennicott River near McCarthy  2023-04-24 14:00:00          21\n",
      "\n",
      "[4750 rows x 4 columns]\n"
     ]
    }
   ],
   "source": [
    "# This cell block uses pandas to convert the 'rows' variable into a Dataframe\n",
    "df=pd.DataFrame(rows, columns=[\"Lid\",\"Name\",\"Date\",\"Measurement\"])\n",
    "pd.set_option('display.width',1000)\n",
    "print(df)"
   ]
  },
  {
   "cell_type": "code",
   "execution_count": 58,
   "id": "fc71239b",
   "metadata": {},
   "outputs": [
    {
     "name": "stdout",
     "output_type": "stream",
     "text": [
      "[['hello world']]\n"
     ]
    }
   ],
   "source": [
    "import gspread\n",
    "\n",
    "gc = gspread.service_account(filename='C:/Github Repos/nenena-ice-4e058e270c26.json')\n",
    "sh= gc.open(\"IceProject\")\n",
    "\n",
    "print(sh.sheet1.get('A1'))\n",
    "\n"
   ]
  },
  {
   "cell_type": "code",
   "execution_count": 1,
   "id": "77616bb4",
   "metadata": {},
   "outputs": [
    {
     "name": "stdout",
     "output_type": "stream",
     "text": [
      "My Scripts page rules\n",
      "Kevvasdin Gman\n"
     ]
    }
   ],
   "source": [
    "import scripts2\n",
    "\n",
    "\n",
    "print(scripts2.testVar)\n",
    "print(scripts2.myName)\n",
    "\n",
    "\n"
   ]
  },
  {
   "cell_type": "code",
   "execution_count": null,
   "id": "e62e62f1",
   "metadata": {},
   "outputs": [],
   "source": []
  },
  {
   "cell_type": "code",
   "execution_count": null,
   "id": "0e337c51",
   "metadata": {},
   "outputs": [],
   "source": []
  }
 ],
 "metadata": {
  "kernelspec": {
   "display_name": "Python 3.10.6 64-bit",
   "language": "python",
   "name": "python3"
  },
  "language_info": {
   "codemirror_mode": {
    "name": "ipython",
    "version": 3
   },
   "file_extension": ".py",
   "mimetype": "text/x-python",
   "name": "python",
   "nbconvert_exporter": "python",
   "pygments_lexer": "ipython3",
   "version": "3.11.3"
  },
  "vscode": {
   "interpreter": {
    "hash": "2469a70536e4d2335a2ea8907942d0699c37342a371ac185bdb5b0aa6f073890"
   }
  }
 },
 "nbformat": 4,
 "nbformat_minor": 5
}
