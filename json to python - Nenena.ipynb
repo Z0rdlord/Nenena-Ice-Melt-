{
 "cells": [
  {
   "cell_type": "code",
   "execution_count": 11,
   "id": "ca31e597",
   "metadata": {},
   "outputs": [],
   "source": [
    "import requests\n",
    "import json\n",
    "import pandas as pd\n",
    "\n",
    "#url = \"https://www.weather.gov/source/aprfc/it_2022.json\"\n",
    "\n",
    "#this is the variable that I will store station id, station name, measurement date, and ice thickness\n",
    "rows=[]\n",
    "# loop over years range\n",
    "for year in range(1995, 2023):\n",
    "    # construct the URL for the current year\n",
    "    url = f'https://www.weather.gov/source/aprfc/it_{year}.json'\n",
    "\n",
    "    response = requests.get(url)\n",
    "    data = json.loads(response.text)\n",
    "    for items in data:\n",
    "        #print(items)\n",
    "        #print(\"test run!!!!\")\n",
    "        for layer1 in data[items]:\n",
    "            #print(\"###################\")\n",
    "            #print(\"  \",layer1)\n",
    "            \n",
    "        # for layer2 in data[items][layer1]:\n",
    "        #    print(\"--------------------------------\")\n",
    "        #     print(\"  \",layer2)\n",
    "                \n",
    "            for layer3 in data[items][layer1][\"features\"]:\n",
    "\n",
    "                #determine how many measurements were taken at each location\n",
    "                numOfMeasurements = len(layer3['properties']['data'])\n",
    "\n",
    "\n",
    "                date_and_measure_list = (layer3['properties']['data'])\n",
    "                lid = layer3['properties']['lid']\n",
    "                st_name = layer3['properties']['name']\n",
    "\n",
    "\n",
    "\n",
    "\n",
    "                \"\"\"print(lid)\n",
    "                print(st_name)\n",
    "                print(layer3['properties']['data'])\n",
    "                print(numOfMeasurements)\n",
    "                print(date_and_measure_list)\n",
    "\n",
    "\n",
    "                print(\"XXXXXXXXXXXXXXXXXXXXXXXXXXXXXXXXXXXXXXXXXXXXXXXXX\")\n",
    "                print(\"     \") \"\"\"\n",
    "\n",
    "\n",
    "                #need to create a for loop here that creates multiple rows if there are more than one date/measurement\n",
    "                n = (numOfMeasurements)\n",
    "                i=0\n",
    "                while i < n:\n",
    "                    rows.append([lid,st_name,year,date_and_measure_list[i][0],date_and_measure_list[i][1]])\n",
    "                    i+=1\n",
    "                    \n",
    "#print(rows)\n",
    "# Adding test comment                   \n",
    "               \n"
   ]
  },
  {
   "cell_type": "code",
   "execution_count": 12,
   "id": "17f542ba",
   "metadata": {},
   "outputs": [
    {
     "name": "stdout",
     "output_type": "stream",
     "text": [
      "        Lid                             Name  Year                 Date Measurement\n",
      "0     ALSA2               Port Alsworth RAWS  1995  1995-01-02 00:00:00          18\n",
      "1     BTTA2         Koyukuk River nr Bettles  1995  1994-12-31 00:00:00          24\n",
      "2     RSHA2   Yukon River at Russian Mission  1995  1994-12-31 00:00:00          17\n",
      "3     SMLA2                   Smith Lake Ice  1995  1994-12-24 00:00:00          16\n",
      "4     SSLA2  Snowshoe Lake Ice near Nelchina  1995  1995-01-02 00:00:00          36\n",
      "...     ...                              ...   ...                  ...         ...\n",
      "4626  MXYA2    Kennicott River near McCarthy  2022  2022-05-10 14:00:00           3\n",
      "4627  MXYA2    Kennicott River near McCarthy  2022  2022-05-11 14:00:00           2\n",
      "4628  SLWA2                Selawik River Ice  2022  2022-05-04 20:00:00          58\n",
      "4629  WPAA2        Waldron Lake in Anchorage  2022  2022-04-17 20:00:00          18\n",
      "4630  WPAA2        Waldron Lake in Anchorage  2022  2022-04-23 19:00:00          12\n",
      "\n",
      "[4631 rows x 5 columns]\n"
     ]
    }
   ],
   "source": [
    "df=pd.DataFrame(rows, columns=[\"Lid\",\"Name\",\"Year\",\"Date\",\"Measurement\"])\n",
    "pd.set_option('display.width',100)\n",
    "print(df)"
   ]
  },
  {
   "cell_type": "code",
   "execution_count": 13,
   "id": "fb043cab",
   "metadata": {},
   "outputs": [
    {
     "name": "stdout",
     "output_type": "stream",
     "text": [
      "test\n"
     ]
    }
   ],
   "source": [
    "print(\"test\")"
   ]
  },
  {
   "cell_type": "code",
   "execution_count": null,
   "id": "fc71239b",
   "metadata": {},
   "outputs": [],
   "source": []
  }
 ],
 "metadata": {
  "kernelspec": {
   "display_name": "Python 3.10.6 64-bit",
   "language": "python",
   "name": "python3"
  },
  "language_info": {
   "codemirror_mode": {
    "name": "ipython",
    "version": 3
   },
   "file_extension": ".py",
   "mimetype": "text/x-python",
   "name": "python",
   "nbconvert_exporter": "python",
   "pygments_lexer": "ipython3",
   "version": "3.10.6"
  },
  "vscode": {
   "interpreter": {
    "hash": "2469a70536e4d2335a2ea8907942d0699c37342a371ac185bdb5b0aa6f073890"
   }
  }
 },
 "nbformat": 4,
 "nbformat_minor": 5
}
